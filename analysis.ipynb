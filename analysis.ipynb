{
 "cells": [
  {
   "cell_type": "markdown",
   "metadata": {},
   "source": [
    "# Irvine Property Value Analysis\n",
    "\n",
    "\n",
    "## Introduction\n",
    "\n",
    "Analyzing property values centered around the city of Irvine, which is roughly in the center of Orange County. Sale prices for properties in Irvine and its surrounding cities were aggregated from Redfin. Along with the sales price, Redfin also provides a few categories of information on the listed property such as the number of bedrooms, the size of the house, etc. The data even includes the coordinates of the properties themselves, which will prove to be very useful when it comes to creating/engineering geospatial features that may be informative for our models."
   ]
  },
  {
   "cell_type": "markdown",
   "metadata": {},
   "source": [
    "## Loading the Data\n",
    "\n",
    "We first load up the data to see what we have. Redfin only allows you to download 350 listings at a time, so it was necessary to perform multiple queries and download our data in batches. This isn't much of a problem, as we can simply merge all of the separate datasets together into one dataframe with pandas."
   ]
  },
  {
   "cell_type": "code",
   "execution_count": 5,
   "metadata": {},
   "outputs": [],
   "source": [
    "import pandas as pd"
   ]
  },
  {
   "cell_type": "code",
   "execution_count": 6,
   "metadata": {},
   "outputs": [],
   "source": [
    "import_list = [\"./data/redfin_2020-06-02-21-35-57.csv\",\n",
    "               \"./data/redfin_2020-06-02-21-39-32.csv\",\n",
    "               \"./data/redfin_2020-06-02-21-36-40.csv\",  \n",
    "               \"./data/redfin_2020-06-02-21-41-03.csv\",\n",
    "               \"./data/redfin_2020-06-02-21-36-56.csv\",  \n",
    "               \"./data/redfin_2020-06-02-21-42-14.csv\",\n",
    "               \"./data/redfin_2020-06-02-21-37-22.csv\",  \n",
    "               \"./data/redfin_2020-06-02-21-42-54.csv\",\n",
    "               \"./data/redfin_2020-06-02-21-38-05.csv\"]"
   ]
  },
  {
   "cell_type": "code",
   "execution_count": 7,
   "metadata": {},
   "outputs": [],
   "source": [
    "df_property = pd.read_csv(\"./data/redfin_2020-06-02-21-39-04.csv\")\n",
    "\n",
    "for i in range(len(import_list)):\n",
    "    df_property = df_property.append(pd.read_csv(import_list[i]))"
   ]
  },
  {
   "cell_type": "code",
   "execution_count": 8,
   "metadata": {},
   "outputs": [
    {
     "output_type": "execute_result",
     "data": {
      "text/plain": "(2029, 27)"
     },
     "metadata": {},
     "execution_count": 8
    }
   ],
   "source": [
    "df_property.shape"
   ]
  },
  {
   "cell_type": "code",
   "execution_count": 9,
   "metadata": {},
   "outputs": [
    {
     "output_type": "execute_result",
     "data": {
      "text/plain": "     SALE TYPE  SOLD DATE              PROPERTY TYPE                  ADDRESS  \\\n0  MLS Listing        NaN                Condo/Co-op         976 Bayside #607   \n1  MLS Listing        NaN  Single Family Residential        20062 Bayview Ave   \n2  MLS Listing        NaN  Single Family Residential           619 Irvine Ave   \n3  MLS Listing        NaN  Single Family Residential  1830 Port Westbourne Pl   \n4  MLS Listing        NaN   Mobile/Manufactured Home          30 Saratoga #30   \n\n            CITY STATE OR PROVINCE  ZIP OR POSTAL CODE    PRICE  BEDS  BATHS  \\\n0  Newport Beach                CA             92660.0  1250000   2.0   2.25   \n1  Newport Beach                CA             92660.0  1525000   3.0   3.00   \n2  Newport Beach                CA             92663.0  1450000   3.0   2.00   \n3  Newport Beach                CA             92660.0  2275000   4.0   2.50   \n4  Newport Beach                CA             92660.0   425000   3.0   2.00   \n\n   ...  STATUS  NEXT OPEN HOUSE START TIME  NEXT OPEN HOUSE END TIME  \\\n0  ...  Active                         NaN                       NaN   \n1  ...  Active                         NaN                       NaN   \n2  ...  Active                         NaN                       NaN   \n3  ...  Active                         NaN                       NaN   \n4  ...  Active                         NaN                       NaN   \n\n   URL (SEE http://www.redfin.com/buy-a-home/comparative-market-analysis FOR INFO ON PRICING)  \\\n0  http://www.redfin.com/CA/Newport-Beach/976-Bay...                                            \n1  http://www.redfin.com/CA/Newport-Beach/20062-B...                                            \n2  http://www.redfin.com/CA/Newport-Beach/619-Irv...                                            \n3  http://www.redfin.com/CA/Newport-Beach/1830-Po...                                            \n4  http://www.redfin.com/CA/Newport-Beach/30-Sara...                                            \n\n   SOURCE        MLS#  FAVORITE INTERESTED   LATITUDE   LONGITUDE  \n0   CRMLS  OC20057627         N          Y  33.610144 -117.891517  \n1   CRMLS  OC20091116         N          Y  33.656655 -117.869718  \n2   CRMLS  OC20067170         N          Y  33.623624 -117.913813  \n3   CRMLS  NP20104838         N          Y  33.624301 -117.857494  \n4   CRMLS  NP20104179         N          Y  33.618048 -117.901300  \n\n[5 rows x 27 columns]",
      "text/html": "<div>\n<style scoped>\n    .dataframe tbody tr th:only-of-type {\n        vertical-align: middle;\n    }\n\n    .dataframe tbody tr th {\n        vertical-align: top;\n    }\n\n    .dataframe thead th {\n        text-align: right;\n    }\n</style>\n<table border=\"1\" class=\"dataframe\">\n  <thead>\n    <tr style=\"text-align: right;\">\n      <th></th>\n      <th>SALE TYPE</th>\n      <th>SOLD DATE</th>\n      <th>PROPERTY TYPE</th>\n      <th>ADDRESS</th>\n      <th>CITY</th>\n      <th>STATE OR PROVINCE</th>\n      <th>ZIP OR POSTAL CODE</th>\n      <th>PRICE</th>\n      <th>BEDS</th>\n      <th>BATHS</th>\n      <th>...</th>\n      <th>STATUS</th>\n      <th>NEXT OPEN HOUSE START TIME</th>\n      <th>NEXT OPEN HOUSE END TIME</th>\n      <th>URL (SEE http://www.redfin.com/buy-a-home/comparative-market-analysis FOR INFO ON PRICING)</th>\n      <th>SOURCE</th>\n      <th>MLS#</th>\n      <th>FAVORITE</th>\n      <th>INTERESTED</th>\n      <th>LATITUDE</th>\n      <th>LONGITUDE</th>\n    </tr>\n  </thead>\n  <tbody>\n    <tr>\n      <th>0</th>\n      <td>MLS Listing</td>\n      <td>NaN</td>\n      <td>Condo/Co-op</td>\n      <td>976 Bayside #607</td>\n      <td>Newport Beach</td>\n      <td>CA</td>\n      <td>92660.0</td>\n      <td>1250000</td>\n      <td>2.0</td>\n      <td>2.25</td>\n      <td>...</td>\n      <td>Active</td>\n      <td>NaN</td>\n      <td>NaN</td>\n      <td>http://www.redfin.com/CA/Newport-Beach/976-Bay...</td>\n      <td>CRMLS</td>\n      <td>OC20057627</td>\n      <td>N</td>\n      <td>Y</td>\n      <td>33.610144</td>\n      <td>-117.891517</td>\n    </tr>\n    <tr>\n      <th>1</th>\n      <td>MLS Listing</td>\n      <td>NaN</td>\n      <td>Single Family Residential</td>\n      <td>20062 Bayview Ave</td>\n      <td>Newport Beach</td>\n      <td>CA</td>\n      <td>92660.0</td>\n      <td>1525000</td>\n      <td>3.0</td>\n      <td>3.00</td>\n      <td>...</td>\n      <td>Active</td>\n      <td>NaN</td>\n      <td>NaN</td>\n      <td>http://www.redfin.com/CA/Newport-Beach/20062-B...</td>\n      <td>CRMLS</td>\n      <td>OC20091116</td>\n      <td>N</td>\n      <td>Y</td>\n      <td>33.656655</td>\n      <td>-117.869718</td>\n    </tr>\n    <tr>\n      <th>2</th>\n      <td>MLS Listing</td>\n      <td>NaN</td>\n      <td>Single Family Residential</td>\n      <td>619 Irvine Ave</td>\n      <td>Newport Beach</td>\n      <td>CA</td>\n      <td>92663.0</td>\n      <td>1450000</td>\n      <td>3.0</td>\n      <td>2.00</td>\n      <td>...</td>\n      <td>Active</td>\n      <td>NaN</td>\n      <td>NaN</td>\n      <td>http://www.redfin.com/CA/Newport-Beach/619-Irv...</td>\n      <td>CRMLS</td>\n      <td>OC20067170</td>\n      <td>N</td>\n      <td>Y</td>\n      <td>33.623624</td>\n      <td>-117.913813</td>\n    </tr>\n    <tr>\n      <th>3</th>\n      <td>MLS Listing</td>\n      <td>NaN</td>\n      <td>Single Family Residential</td>\n      <td>1830 Port Westbourne Pl</td>\n      <td>Newport Beach</td>\n      <td>CA</td>\n      <td>92660.0</td>\n      <td>2275000</td>\n      <td>4.0</td>\n      <td>2.50</td>\n      <td>...</td>\n      <td>Active</td>\n      <td>NaN</td>\n      <td>NaN</td>\n      <td>http://www.redfin.com/CA/Newport-Beach/1830-Po...</td>\n      <td>CRMLS</td>\n      <td>NP20104838</td>\n      <td>N</td>\n      <td>Y</td>\n      <td>33.624301</td>\n      <td>-117.857494</td>\n    </tr>\n    <tr>\n      <th>4</th>\n      <td>MLS Listing</td>\n      <td>NaN</td>\n      <td>Mobile/Manufactured Home</td>\n      <td>30 Saratoga #30</td>\n      <td>Newport Beach</td>\n      <td>CA</td>\n      <td>92660.0</td>\n      <td>425000</td>\n      <td>3.0</td>\n      <td>2.00</td>\n      <td>...</td>\n      <td>Active</td>\n      <td>NaN</td>\n      <td>NaN</td>\n      <td>http://www.redfin.com/CA/Newport-Beach/30-Sara...</td>\n      <td>CRMLS</td>\n      <td>NP20104179</td>\n      <td>N</td>\n      <td>Y</td>\n      <td>33.618048</td>\n      <td>-117.901300</td>\n    </tr>\n  </tbody>\n</table>\n<p>5 rows × 27 columns</p>\n</div>"
     },
     "metadata": {},
     "execution_count": 9
    }
   ],
   "source": [
    "df_property.head()"
   ]
  },
  {
   "cell_type": "code",
   "execution_count": 10,
   "metadata": {},
   "outputs": [
    {
     "output_type": "execute_result",
     "data": {
      "text/plain": "Index(['SALE TYPE', 'SOLD DATE', 'PROPERTY TYPE', 'ADDRESS', 'CITY',\n       'STATE OR PROVINCE', 'ZIP OR POSTAL CODE', 'PRICE', 'BEDS', 'BATHS',\n       'LOCATION', 'SQUARE FEET', 'LOT SIZE', 'YEAR BUILT', 'DAYS ON MARKET',\n       '$/SQUARE FEET', 'HOA/MONTH', 'STATUS', 'NEXT OPEN HOUSE START TIME',\n       'NEXT OPEN HOUSE END TIME',\n       'URL (SEE http://www.redfin.com/buy-a-home/comparative-market-analysis FOR INFO ON PRICING)',\n       'SOURCE', 'MLS#', 'FAVORITE', 'INTERESTED', 'LATITUDE', 'LONGITUDE'],\n      dtype='object')"
     },
     "metadata": {},
     "execution_count": 10
    }
   ],
   "source": [
    "df_property.columns"
   ]
  },
  {
   "cell_type": "markdown",
   "metadata": {},
   "source": [
    "<br>\n",
    "\n",
    "You can immediately notice from our quick peek at the dataset that there are _NaN_ values. This is to be expected, and probabaly one of the first things to check for, as missing values may wreak havoc on future analysis and modeling efforts. To inspect deeper, it is informative to see how many _NaN_ values exist in each column individually:"
   ]
  },
  {
   "cell_type": "code",
   "execution_count": 13,
   "metadata": {},
   "outputs": [
    {
     "output_type": "execute_result",
     "data": {
      "text/plain": "SALE TYPE                                                                                        0\nSOLD DATE                                                                                     2029\nPROPERTY TYPE                                                                                    0\nADDRESS                                                                                          1\nCITY                                                                                             0\nSTATE OR PROVINCE                                                                                0\nZIP OR POSTAL CODE                                                                               1\nPRICE                                                                                            0\nBEDS                                                                                            13\nBATHS                                                                                           13\nLOCATION                                                                                         2\nSQUARE FEET                                                                                     29\nLOT SIZE                                                                                       685\nYEAR BUILT                                                                                     147\nDAYS ON MARKET                                                                                 133\n$/SQUARE FEET                                                                                   29\nHOA/MONTH                                                                                      722\nSTATUS                                                                                           0\nNEXT OPEN HOUSE START TIME                                                                    2029\nNEXT OPEN HOUSE END TIME                                                                      2029\nURL (SEE http://www.redfin.com/buy-a-home/comparative-market-analysis FOR INFO ON PRICING)       0\nSOURCE                                                                                           0\nMLS#                                                                                             0\nFAVORITE                                                                                         0\nINTERESTED                                                                                       0\nLATITUDE                                                                                         0\nLONGITUDE                                                                                        0\ndtype: int64"
     },
     "metadata": {},
     "execution_count": 13
    }
   ],
   "source": [
    "df_property.isna().sum()"
   ]
  },
  {
   "cell_type": "markdown",
   "metadata": {},
   "source": [
    "<br>\n",
    "\n",
    "So we do see that some columns have many missing values, while other columns land in single digit values. Fortunately, all of the columns I planned on using fall in the latter column.\n",
    "\n",
    "<br>\n",
    "\n",
    "## Data Enrichment and Feature Engineering\n",
    "\n",
    "So back to the idea of using the supplied coordinates to derive additional geospatial features that may be useful, "
   ]
  },
  {
   "cell_type": "code",
   "execution_count": 8,
   "metadata": {},
   "outputs": [],
   "source": [
    "from geopy import distance"
   ]
  },
  {
   "cell_type": "code",
   "execution_count": 12,
   "metadata": {},
   "outputs": [],
   "source": [
    "# Use the .apply() method to apply a transformation on each row. Particularly, we\n",
    "# are calculating the distance to Pershing Square for each row and returning the \n",
    "# value in kilometers\n",
    "newport_coord = (33.605587, -117.919656)\n",
    "\n",
    "df_property['NPBeach_Dist'] = df_property.apply(lambda row: distance.distance((row['LATITUDE'], row['LONGITUDE']), newport_coord).km, axis = 1)"
   ]
  },
  {
   "cell_type": "code",
   "execution_count": 13,
   "metadata": {},
   "outputs": [
    {
     "output_type": "execute_result",
     "data": {
      "text/plain": "0      2.659922\n1      7.317857\n2      2.072827\n3      6.130677\n4      2.193677\n        ...    \n93    17.178001\n94    17.178001\n95    17.178001\n96    17.178001\n97    17.178001\nName: NPBeach_Dist, Length: 2029, dtype: float64"
     },
     "metadata": {},
     "execution_count": 13
    }
   ],
   "source": [
    "df_property['NPBeach_Dist']"
   ]
  },
  {
   "cell_type": "code",
   "execution_count": 16,
   "metadata": {},
   "outputs": [],
   "source": [
    "uci_coords = (33.645807, -117.842733)\n",
    "\n",
    "df_property['UCI_Dist'] = df_property.apply(lambda row: distance.distance((row['LATITUDE'], row['LONGITUDE']), uci_coords).km, axis = 1)"
   ]
  },
  {
   "cell_type": "code",
   "execution_count": 18,
   "metadata": {},
   "outputs": [
    {
     "output_type": "execute_result",
     "data": {
      "text/plain": "0      6.011317\n1      2.777325\n2      7.038663\n3      2.750520\n4      6.245552\n        ...    \n93    10.517346\n94    10.517346\n95    10.517346\n96    10.517346\n97    10.517346\nName: UCI_Dist, Length: 2029, dtype: float64"
     },
     "metadata": {},
     "execution_count": 18
    }
   ],
   "source": [
    "df_property['UCI_Dist']"
   ]
  },
  {
   "cell_type": "code",
   "execution_count": 19,
   "metadata": {},
   "outputs": [
    {
     "output_type": "execute_result",
     "data": {
      "text/plain": "array(['Condo/Co-op', 'Single Family Residential',\n       'Mobile/Manufactured Home', 'Townhouse', 'Multi-Family (2-4 Unit)',\n       'Multi-Family (5+ Unit)', 'Vacant Land'], dtype=object)"
     },
     "metadata": {},
     "execution_count": 19
    }
   ],
   "source": [
    "# We have some vacant lots listed for sale. We will remove these, as it does not fit what\n",
    "# we are trying to do with predicting property values. Additionally, these listings would\n",
    "# be removed because they have no beds or baths anyways\n",
    "\n",
    "df_property['PROPERTY TYPE'].unique()"
   ]
  },
  {
   "cell_type": "code",
   "execution_count": 20,
   "metadata": {},
   "outputs": [],
   "source": [
    "# Remove all listings of vacant plots\n",
    "\n",
    "df_property = df_property.loc[df_property['PROPERTY TYPE'] != 'Vacant Land', ]"
   ]
  },
  {
   "cell_type": "code",
   "execution_count": 21,
   "metadata": {},
   "outputs": [
    {
     "output_type": "execute_result",
     "data": {
      "text/plain": "(2016, 29)"
     },
     "metadata": {},
     "execution_count": 21
    }
   ],
   "source": [
    "df_property.shape"
   ]
  },
  {
   "cell_type": "code",
   "execution_count": 22,
   "metadata": {},
   "outputs": [
    {
     "output_type": "stream",
     "name": "stdout",
     "text": "ZIP OR POSTAL CODE    0\ndtype: int64\nBEDS    0\ndtype: int64\nBATHS    0\ndtype: int64\n"
    }
   ],
   "source": [
    "print(df_property[['ZIP OR POSTAL CODE']].isna().sum())\n",
    "print(df_property[['BEDS']].isna().sum())\n",
    "print(df_property[['BATHS']].isna().sum())"
   ]
  },
  {
   "cell_type": "code",
   "execution_count": 23,
   "metadata": {},
   "outputs": [
    {
     "output_type": "execute_result",
     "data": {
      "text/plain": "Index(['SALE TYPE', 'SOLD DATE', 'PROPERTY TYPE', 'ADDRESS', 'CITY',\n       'STATE OR PROVINCE', 'ZIP OR POSTAL CODE', 'PRICE', 'BEDS', 'BATHS',\n       'LOCATION', 'SQUARE FEET', 'LOT SIZE', 'YEAR BUILT', 'DAYS ON MARKET',\n       '$/SQUARE FEET', 'HOA/MONTH', 'STATUS', 'NEXT OPEN HOUSE START TIME',\n       'NEXT OPEN HOUSE END TIME',\n       'URL (SEE http://www.redfin.com/buy-a-home/comparative-market-analysis FOR INFO ON PRICING)',\n       'SOURCE', 'MLS#', 'FAVORITE', 'INTERESTED', 'LATITUDE', 'LONGITUDE',\n       'NPBeach_Dist', 'UCI_Dist'],\n      dtype='object')"
     },
     "metadata": {},
     "execution_count": 23
    }
   ],
   "source": [
    "df_property.columns"
   ]
  },
  {
   "cell_type": "code",
   "execution_count": 24,
   "metadata": {},
   "outputs": [],
   "source": [
    "keep_cols = ['PRICE', \n",
    "             'PROPERTY TYPE', \n",
    "             'CITY', \n",
    "             'ZIP OR POSTAL CODE', \n",
    "             'BEDS', \n",
    "             'BATHS',\n",
    "             'SQUARE FEET', \n",
    "             'NPBeach_Dist',\n",
    "             'UCI_Dist']"
   ]
  },
  {
   "cell_type": "code",
   "execution_count": 25,
   "metadata": {},
   "outputs": [
    {
     "output_type": "execute_result",
     "data": {
      "text/plain": "(2016, 9)"
     },
     "metadata": {},
     "execution_count": 25
    }
   ],
   "source": [
    "df_property = df_property[keep_cols]\n",
    "\n",
    "df_property.shape"
   ]
  },
  {
   "cell_type": "code",
   "execution_count": 26,
   "metadata": {},
   "outputs": [
    {
     "output_type": "execute_result",
     "data": {
      "text/plain": "     PRICE              PROPERTY TYPE           CITY  ZIP OR POSTAL CODE  \\\n0  1250000                Condo/Co-op  Newport Beach             92660.0   \n1  1525000  Single Family Residential  Newport Beach             92660.0   \n2  1450000  Single Family Residential  Newport Beach             92663.0   \n3  2275000  Single Family Residential  Newport Beach             92660.0   \n4   425000   Mobile/Manufactured Home  Newport Beach             92660.0   \n\n   BEDS  BATHS  SQUARE FEET  NPBeach_Dist  UCI_Dist  \n0   2.0   2.25       1538.0      2.659922  6.011317  \n1   3.0   3.00       2106.0      7.317857  2.777325  \n2   3.0   2.00       1500.0      2.072827  7.038663  \n3   4.0   2.50       2407.0      6.130677  2.750520  \n4   3.0   2.00       1150.0      2.193677  6.245552  ",
      "text/html": "<div>\n<style scoped>\n    .dataframe tbody tr th:only-of-type {\n        vertical-align: middle;\n    }\n\n    .dataframe tbody tr th {\n        vertical-align: top;\n    }\n\n    .dataframe thead th {\n        text-align: right;\n    }\n</style>\n<table border=\"1\" class=\"dataframe\">\n  <thead>\n    <tr style=\"text-align: right;\">\n      <th></th>\n      <th>PRICE</th>\n      <th>PROPERTY TYPE</th>\n      <th>CITY</th>\n      <th>ZIP OR POSTAL CODE</th>\n      <th>BEDS</th>\n      <th>BATHS</th>\n      <th>SQUARE FEET</th>\n      <th>NPBeach_Dist</th>\n      <th>UCI_Dist</th>\n    </tr>\n  </thead>\n  <tbody>\n    <tr>\n      <th>0</th>\n      <td>1250000</td>\n      <td>Condo/Co-op</td>\n      <td>Newport Beach</td>\n      <td>92660.0</td>\n      <td>2.0</td>\n      <td>2.25</td>\n      <td>1538.0</td>\n      <td>2.659922</td>\n      <td>6.011317</td>\n    </tr>\n    <tr>\n      <th>1</th>\n      <td>1525000</td>\n      <td>Single Family Residential</td>\n      <td>Newport Beach</td>\n      <td>92660.0</td>\n      <td>3.0</td>\n      <td>3.00</td>\n      <td>2106.0</td>\n      <td>7.317857</td>\n      <td>2.777325</td>\n    </tr>\n    <tr>\n      <th>2</th>\n      <td>1450000</td>\n      <td>Single Family Residential</td>\n      <td>Newport Beach</td>\n      <td>92663.0</td>\n      <td>3.0</td>\n      <td>2.00</td>\n      <td>1500.0</td>\n      <td>2.072827</td>\n      <td>7.038663</td>\n    </tr>\n    <tr>\n      <th>3</th>\n      <td>2275000</td>\n      <td>Single Family Residential</td>\n      <td>Newport Beach</td>\n      <td>92660.0</td>\n      <td>4.0</td>\n      <td>2.50</td>\n      <td>2407.0</td>\n      <td>6.130677</td>\n      <td>2.750520</td>\n    </tr>\n    <tr>\n      <th>4</th>\n      <td>425000</td>\n      <td>Mobile/Manufactured Home</td>\n      <td>Newport Beach</td>\n      <td>92660.0</td>\n      <td>3.0</td>\n      <td>2.00</td>\n      <td>1150.0</td>\n      <td>2.193677</td>\n      <td>6.245552</td>\n    </tr>\n  </tbody>\n</table>\n</div>"
     },
     "metadata": {},
     "execution_count": 26
    }
   ],
   "source": [
    "df_property.head()"
   ]
  },
  {
   "cell_type": "code",
   "execution_count": 27,
   "metadata": {},
   "outputs": [],
   "source": [
    "df_property['ZIP OR POSTAL CODE'] = df_property['ZIP OR POSTAL CODE'].astype('category')"
   ]
  },
  {
   "cell_type": "code",
   "execution_count": 28,
   "metadata": {},
   "outputs": [
    {
     "output_type": "execute_result",
     "data": {
      "text/plain": "array(['Newport Beach', 'Costa Mesa', 'Corona del Mar', 'Irvine',\n       'Lake Forest', 'Newport Coast', 'Laguna Hills', 'Corona Del Mar',\n       'Tustin', 'Santa Ana', 'North Tustin', 'Garden Grove',\n       'Fountain Valley', 'Orange', 'Trabuco Canyon', 'TUSTIN'],\n      dtype=object)"
     },
     "metadata": {},
     "execution_count": 28
    }
   ],
   "source": [
    "# Too many cities to use both cities and zip codes (as this would create too many dummy\n",
    "# variables. I will proceed by binning the cities into four distinct regions)\n",
    "\n",
    "df_property['CITY'].unique()"
   ]
  },
  {
   "cell_type": "code",
   "execution_count": 29,
   "metadata": {},
   "outputs": [
    {
     "output_type": "execute_result",
     "data": {
      "text/plain": "[92660.0, 92663.0, 92627.0, 92633.0, 92625.0, ..., 92866.0, 92780.0, 92683.0, 92610.0, 92679.0]\nLength: 34\nCategories (34, float64): [92660.0, 92663.0, 92627.0, 92633.0, ..., 92780.0, 92683.0, 92610.0, 92679.0]"
     },
     "metadata": {},
     "execution_count": 29
    }
   ],
   "source": [
    "df_property['ZIP OR POSTAL CODE'].unique()"
   ]
  },
  {
   "cell_type": "code",
   "execution_count": 30,
   "metadata": {},
   "outputs": [],
   "source": [
    "def city_bins(row):\n",
    "    if row['CITY'] in ['Irvine']:\n",
    "        return 'Irvine'\n",
    "    elif row['CITY'] in ['Fountain Valley', 'Costa Mesa', 'Santa Ana', 'Garden Grove']:\n",
    "        return 'W'\n",
    "    elif row['CITY'] in ['Orange', 'Tustin', 'TUSTIN', 'North Tustin']:\n",
    "        return 'N'\n",
    "    elif row['CITY'] in ['Lake Forest', 'Laguna Hills', 'Trabuco Canyon']:\n",
    "        return 'E'\n",
    "    else:\n",
    "        return 'Beach'"
   ]
  },
  {
   "cell_type": "code",
   "execution_count": 31,
   "metadata": {},
   "outputs": [],
   "source": [
    "df_property['Region'] = df_property.apply(lambda row: city_bins(row), axis = 1)"
   ]
  },
  {
   "cell_type": "code",
   "execution_count": 32,
   "metadata": {},
   "outputs": [
    {
     "output_type": "execute_result",
     "data": {
      "text/plain": "array(['Beach', 'W', 'Irvine', 'E', 'N'], dtype=object)"
     },
     "metadata": {},
     "execution_count": 32
    }
   ],
   "source": [
    "df_property['Region'].unique()"
   ]
  },
  {
   "cell_type": "code",
   "execution_count": 34,
   "metadata": {},
   "outputs": [],
   "source": [
    "df_property.drop_duplicates(inplace = True)"
   ]
  },
  {
   "cell_type": "code",
   "execution_count": 35,
   "metadata": {},
   "outputs": [
    {
     "output_type": "execute_result",
     "data": {
      "text/plain": "(1905, 10)"
     },
     "metadata": {},
     "execution_count": 35
    }
   ],
   "source": [
    "df_property.shape"
   ]
  },
  {
   "cell_type": "code",
   "execution_count": 36,
   "metadata": {},
   "outputs": [
    {
     "output_type": "execute_result",
     "data": {
      "text/plain": "     PRICE              PROPERTY TYPE           CITY ZIP OR POSTAL CODE  BEDS  \\\n0  1250000                Condo/Co-op  Newport Beach            92660.0   2.0   \n1  1525000  Single Family Residential  Newport Beach            92660.0   3.0   \n2  1450000  Single Family Residential  Newport Beach            92663.0   3.0   \n3  2275000  Single Family Residential  Newport Beach            92660.0   4.0   \n4   425000   Mobile/Manufactured Home  Newport Beach            92660.0   3.0   \n\n   BATHS  SQUARE FEET  NPBeach_Dist  UCI_Dist Region  \n0   2.25       1538.0      2.659922  6.011317  Beach  \n1   3.00       2106.0      7.317857  2.777325  Beach  \n2   2.00       1500.0      2.072827  7.038663  Beach  \n3   2.50       2407.0      6.130677  2.750520  Beach  \n4   2.00       1150.0      2.193677  6.245552  Beach  ",
      "text/html": "<div>\n<style scoped>\n    .dataframe tbody tr th:only-of-type {\n        vertical-align: middle;\n    }\n\n    .dataframe tbody tr th {\n        vertical-align: top;\n    }\n\n    .dataframe thead th {\n        text-align: right;\n    }\n</style>\n<table border=\"1\" class=\"dataframe\">\n  <thead>\n    <tr style=\"text-align: right;\">\n      <th></th>\n      <th>PRICE</th>\n      <th>PROPERTY TYPE</th>\n      <th>CITY</th>\n      <th>ZIP OR POSTAL CODE</th>\n      <th>BEDS</th>\n      <th>BATHS</th>\n      <th>SQUARE FEET</th>\n      <th>NPBeach_Dist</th>\n      <th>UCI_Dist</th>\n      <th>Region</th>\n    </tr>\n  </thead>\n  <tbody>\n    <tr>\n      <th>0</th>\n      <td>1250000</td>\n      <td>Condo/Co-op</td>\n      <td>Newport Beach</td>\n      <td>92660.0</td>\n      <td>2.0</td>\n      <td>2.25</td>\n      <td>1538.0</td>\n      <td>2.659922</td>\n      <td>6.011317</td>\n      <td>Beach</td>\n    </tr>\n    <tr>\n      <th>1</th>\n      <td>1525000</td>\n      <td>Single Family Residential</td>\n      <td>Newport Beach</td>\n      <td>92660.0</td>\n      <td>3.0</td>\n      <td>3.00</td>\n      <td>2106.0</td>\n      <td>7.317857</td>\n      <td>2.777325</td>\n      <td>Beach</td>\n    </tr>\n    <tr>\n      <th>2</th>\n      <td>1450000</td>\n      <td>Single Family Residential</td>\n      <td>Newport Beach</td>\n      <td>92663.0</td>\n      <td>3.0</td>\n      <td>2.00</td>\n      <td>1500.0</td>\n      <td>2.072827</td>\n      <td>7.038663</td>\n      <td>Beach</td>\n    </tr>\n    <tr>\n      <th>3</th>\n      <td>2275000</td>\n      <td>Single Family Residential</td>\n      <td>Newport Beach</td>\n      <td>92660.0</td>\n      <td>4.0</td>\n      <td>2.50</td>\n      <td>2407.0</td>\n      <td>6.130677</td>\n      <td>2.750520</td>\n      <td>Beach</td>\n    </tr>\n    <tr>\n      <th>4</th>\n      <td>425000</td>\n      <td>Mobile/Manufactured Home</td>\n      <td>Newport Beach</td>\n      <td>92660.0</td>\n      <td>3.0</td>\n      <td>2.00</td>\n      <td>1150.0</td>\n      <td>2.193677</td>\n      <td>6.245552</td>\n      <td>Beach</td>\n    </tr>\n  </tbody>\n</table>\n</div>"
     },
     "metadata": {},
     "execution_count": 36
    }
   ],
   "source": [
    "df_property.head()"
   ]
  },
  {
   "cell_type": "code",
   "execution_count": 37,
   "metadata": {},
   "outputs": [
    {
     "output_type": "execute_result",
     "data": {
      "text/plain": "Single Family Residential    1149\nCondo/Co-op                   466\nTownhouse                     129\nMobile/Manufactured Home      100\nMulti-Family (2-4 Unit)        48\nMulti-Family (5+ Unit)         13\nName: PROPERTY TYPE, dtype: int64"
     },
     "metadata": {},
     "execution_count": 37
    }
   ],
   "source": [
    "df_property['PROPERTY TYPE'].value_counts()"
   ]
  },
  {
   "cell_type": "code",
   "execution_count": 3,
   "metadata": {},
   "outputs": [
    {
     "output_type": "error",
     "ename": "NameError",
     "evalue": "name 'df_property' is not defined",
     "traceback": [
      "\u001b[0;31m---------------------------------------------------------------------------\u001b[0m",
      "\u001b[0;31mNameError\u001b[0m                                 Traceback (most recent call last)",
      "\u001b[0;32m<ipython-input-3-79596b67f62e>\u001b[0m in \u001b[0;36m<module>\u001b[0;34m\u001b[0m\n\u001b[0;32m----> 1\u001b[0;31m \u001b[0mdf_property\u001b[0m\u001b[0;34m[\u001b[0m\u001b[0;34m'Region'\u001b[0m\u001b[0;34m]\u001b[0m\u001b[0;34m.\u001b[0m\u001b[0mvalue_counts\u001b[0m\u001b[0;34m(\u001b[0m\u001b[0;34m)\u001b[0m\u001b[0;34m\u001b[0m\u001b[0;34m\u001b[0m\u001b[0m\n\u001b[0m",
      "\u001b[0;31mNameError\u001b[0m: name 'df_property' is not defined"
     ]
    }
   ],
   "source": [
    "df_property['Region'].value_counts()"
   ]
  },
  {
   "cell_type": "code",
   "execution_count": 2,
   "metadata": {},
   "outputs": [
    {
     "output_type": "error",
     "ename": "NameError",
     "evalue": "name 'df_property' is not defined",
     "traceback": [
      "\u001b[0;31m---------------------------------------------------------------------------\u001b[0m",
      "\u001b[0;31mNameError\u001b[0m                                 Traceback (most recent call last)",
      "\u001b[0;32m<ipython-input-2-587b47e1c572>\u001b[0m in \u001b[0;36m<module>\u001b[0;34m\u001b[0m\n\u001b[0;32m----> 1\u001b[0;31m \u001b[0mdf_property\u001b[0m\u001b[0;34m.\u001b[0m\u001b[0mdropna\u001b[0m\u001b[0;34m(\u001b[0m\u001b[0;34m)\u001b[0m\u001b[0;34m\u001b[0m\u001b[0;34m\u001b[0m\u001b[0m\n\u001b[0m",
      "\u001b[0;31mNameError\u001b[0m: name 'df_property' is not defined"
     ]
    }
   ],
   "source": [
    "df_property.dropna()"
   ]
  },
  {
   "cell_type": "code",
   "execution_count": null,
   "metadata": {},
   "outputs": [],
   "source": []
  }
 ],
 "metadata": {
  "language_info": {
   "codemirror_mode": {
    "name": "ipython",
    "version": 3
   },
   "file_extension": ".py",
   "mimetype": "text/x-python",
   "name": "python",
   "nbconvert_exporter": "python",
   "pygments_lexer": "ipython3",
   "version": "3.6.10-final"
  },
  "orig_nbformat": 2,
  "kernelspec": {
   "name": "python361064bit6ce694fc823e478eabb3c8f80347b4f7",
   "display_name": "Python 3.6.10 64-bit"
  }
 },
 "nbformat": 4,
 "nbformat_minor": 2
}