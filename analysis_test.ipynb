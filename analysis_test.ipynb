{
 "cells": [
  {
   "cell_type": "markdown",
   "metadata": {},
   "source": [
    "# Irvine Property Value Analysis\n",
    "\n",
    "\n",
    "## Introduction\n",
    "\n",
    "Analyzing property values centered around the city of Irvine, which is roughly in the center of Orange County. Sale prices for properties in Irvine and its surrounding cities were aggregated from Redfin. Along with the sales price, Redfin also provides a few categories of information on the listed property such as the number of bedrooms, the size of the house, etc. The data even includes the coordinates of the properties themselves, which will prove to be very useful when it comes to creating/engineering geospatial features that may be informative for our models."
   ]
  },
  {
   "cell_type": "markdown",
   "metadata": {},
   "source": [
    "## Loading the Data\n",
    "\n",
    "We first load up the data to see what we have. Redfin only allows you to download 350 listings at a time, so it was necessary to perform multiple queries and download our data in batches. This isn't much of a problem, as we can simply merge all of the separate datasets together into one dataframe with pandas."
   ]
  },
  {
   "cell_type": "code",
   "execution_count": 1,
   "metadata": {},
   "outputs": [],
   "source": [
    "import pandas as pd"
   ]
  },
  {
   "cell_type": "code",
   "execution_count": 2,
   "metadata": {},
   "outputs": [],
   "source": [
    "import_list = [\"./data/redfin_2020-06-02-21-35-57.csv\",\n",
    "               \"./data/redfin_2020-06-02-21-39-32.csv\",\n",
    "               \"./data/redfin_2020-06-02-21-36-40.csv\",  \n",
    "               \"./data/redfin_2020-06-02-21-41-03.csv\",\n",
    "               \"./data/redfin_2020-06-02-21-36-56.csv\",  \n",
    "               \"./data/redfin_2020-06-02-21-42-14.csv\",\n",
    "               \"./data/redfin_2020-06-02-21-37-22.csv\",  \n",
    "               \"./data/redfin_2020-06-02-21-42-54.csv\",\n",
    "               \"./data/redfin_2020-06-02-21-38-05.csv\"]"
   ]
  },
  {
   "cell_type": "code",
   "execution_count": 3,
   "metadata": {},
   "outputs": [],
   "source": [
    "df_property = pd.read_csv(\"./data/redfin_2020-06-02-21-39-04.csv\")\n",
    "\n",
    "for i in range(len(import_list)):\n",
    "    df_property = df_property.append(pd.read_csv(import_list[i]))"
   ]
  },
  {
   "cell_type": "code",
   "execution_count": 4,
   "metadata": {},
   "outputs": [
    {
     "data": {
      "text/plain": [
       "(1923, 27)"
      ]
     },
     "execution_count": 4,
     "metadata": {},
     "output_type": "execute_result"
    }
   ],
   "source": [
    "df_property.drop_duplicates(inplace = True)\n",
    "df_property.shape"
   ]
  },
  {
   "cell_type": "code",
   "execution_count": 5,
   "metadata": {},
   "outputs": [
    {
     "data": {
      "text/html": [
       "<div>\n",
       "<style scoped>\n",
       "    .dataframe tbody tr th:only-of-type {\n",
       "        vertical-align: middle;\n",
       "    }\n",
       "\n",
       "    .dataframe tbody tr th {\n",
       "        vertical-align: top;\n",
       "    }\n",
       "\n",
       "    .dataframe thead th {\n",
       "        text-align: right;\n",
       "    }\n",
       "</style>\n",
       "<table border=\"1\" class=\"dataframe\">\n",
       "  <thead>\n",
       "    <tr style=\"text-align: right;\">\n",
       "      <th></th>\n",
       "      <th>SALE TYPE</th>\n",
       "      <th>SOLD DATE</th>\n",
       "      <th>PROPERTY TYPE</th>\n",
       "      <th>ADDRESS</th>\n",
       "      <th>CITY</th>\n",
       "      <th>STATE OR PROVINCE</th>\n",
       "      <th>ZIP OR POSTAL CODE</th>\n",
       "      <th>PRICE</th>\n",
       "      <th>BEDS</th>\n",
       "      <th>BATHS</th>\n",
       "      <th>...</th>\n",
       "      <th>STATUS</th>\n",
       "      <th>NEXT OPEN HOUSE START TIME</th>\n",
       "      <th>NEXT OPEN HOUSE END TIME</th>\n",
       "      <th>URL (SEE http://www.redfin.com/buy-a-home/comparative-market-analysis FOR INFO ON PRICING)</th>\n",
       "      <th>SOURCE</th>\n",
       "      <th>MLS#</th>\n",
       "      <th>FAVORITE</th>\n",
       "      <th>INTERESTED</th>\n",
       "      <th>LATITUDE</th>\n",
       "      <th>LONGITUDE</th>\n",
       "    </tr>\n",
       "  </thead>\n",
       "  <tbody>\n",
       "    <tr>\n",
       "      <th>0</th>\n",
       "      <td>MLS Listing</td>\n",
       "      <td>NaN</td>\n",
       "      <td>Condo/Co-op</td>\n",
       "      <td>976 Bayside #607</td>\n",
       "      <td>Newport Beach</td>\n",
       "      <td>CA</td>\n",
       "      <td>92660.0</td>\n",
       "      <td>1250000</td>\n",
       "      <td>2.0</td>\n",
       "      <td>2.25</td>\n",
       "      <td>...</td>\n",
       "      <td>Active</td>\n",
       "      <td>NaN</td>\n",
       "      <td>NaN</td>\n",
       "      <td>http://www.redfin.com/CA/Newport-Beach/976-Bay...</td>\n",
       "      <td>CRMLS</td>\n",
       "      <td>OC20057627</td>\n",
       "      <td>N</td>\n",
       "      <td>Y</td>\n",
       "      <td>33.610144</td>\n",
       "      <td>-117.891517</td>\n",
       "    </tr>\n",
       "    <tr>\n",
       "      <th>1</th>\n",
       "      <td>MLS Listing</td>\n",
       "      <td>NaN</td>\n",
       "      <td>Single Family Residential</td>\n",
       "      <td>20062 Bayview Ave</td>\n",
       "      <td>Newport Beach</td>\n",
       "      <td>CA</td>\n",
       "      <td>92660.0</td>\n",
       "      <td>1525000</td>\n",
       "      <td>3.0</td>\n",
       "      <td>3.00</td>\n",
       "      <td>...</td>\n",
       "      <td>Active</td>\n",
       "      <td>NaN</td>\n",
       "      <td>NaN</td>\n",
       "      <td>http://www.redfin.com/CA/Newport-Beach/20062-B...</td>\n",
       "      <td>CRMLS</td>\n",
       "      <td>OC20091116</td>\n",
       "      <td>N</td>\n",
       "      <td>Y</td>\n",
       "      <td>33.656655</td>\n",
       "      <td>-117.869718</td>\n",
       "    </tr>\n",
       "    <tr>\n",
       "      <th>2</th>\n",
       "      <td>MLS Listing</td>\n",
       "      <td>NaN</td>\n",
       "      <td>Single Family Residential</td>\n",
       "      <td>619 Irvine Ave</td>\n",
       "      <td>Newport Beach</td>\n",
       "      <td>CA</td>\n",
       "      <td>92663.0</td>\n",
       "      <td>1450000</td>\n",
       "      <td>3.0</td>\n",
       "      <td>2.00</td>\n",
       "      <td>...</td>\n",
       "      <td>Active</td>\n",
       "      <td>NaN</td>\n",
       "      <td>NaN</td>\n",
       "      <td>http://www.redfin.com/CA/Newport-Beach/619-Irv...</td>\n",
       "      <td>CRMLS</td>\n",
       "      <td>OC20067170</td>\n",
       "      <td>N</td>\n",
       "      <td>Y</td>\n",
       "      <td>33.623624</td>\n",
       "      <td>-117.913813</td>\n",
       "    </tr>\n",
       "    <tr>\n",
       "      <th>3</th>\n",
       "      <td>MLS Listing</td>\n",
       "      <td>NaN</td>\n",
       "      <td>Single Family Residential</td>\n",
       "      <td>1830 Port Westbourne Pl</td>\n",
       "      <td>Newport Beach</td>\n",
       "      <td>CA</td>\n",
       "      <td>92660.0</td>\n",
       "      <td>2275000</td>\n",
       "      <td>4.0</td>\n",
       "      <td>2.50</td>\n",
       "      <td>...</td>\n",
       "      <td>Active</td>\n",
       "      <td>NaN</td>\n",
       "      <td>NaN</td>\n",
       "      <td>http://www.redfin.com/CA/Newport-Beach/1830-Po...</td>\n",
       "      <td>CRMLS</td>\n",
       "      <td>NP20104838</td>\n",
       "      <td>N</td>\n",
       "      <td>Y</td>\n",
       "      <td>33.624301</td>\n",
       "      <td>-117.857494</td>\n",
       "    </tr>\n",
       "    <tr>\n",
       "      <th>4</th>\n",
       "      <td>MLS Listing</td>\n",
       "      <td>NaN</td>\n",
       "      <td>Mobile/Manufactured Home</td>\n",
       "      <td>30 Saratoga #30</td>\n",
       "      <td>Newport Beach</td>\n",
       "      <td>CA</td>\n",
       "      <td>92660.0</td>\n",
       "      <td>425000</td>\n",
       "      <td>3.0</td>\n",
       "      <td>2.00</td>\n",
       "      <td>...</td>\n",
       "      <td>Active</td>\n",
       "      <td>NaN</td>\n",
       "      <td>NaN</td>\n",
       "      <td>http://www.redfin.com/CA/Newport-Beach/30-Sara...</td>\n",
       "      <td>CRMLS</td>\n",
       "      <td>NP20104179</td>\n",
       "      <td>N</td>\n",
       "      <td>Y</td>\n",
       "      <td>33.618048</td>\n",
       "      <td>-117.901300</td>\n",
       "    </tr>\n",
       "  </tbody>\n",
       "</table>\n",
       "<p>5 rows × 27 columns</p>\n",
       "</div>"
      ],
      "text/plain": [
       "     SALE TYPE  SOLD DATE              PROPERTY TYPE                  ADDRESS  \\\n",
       "0  MLS Listing        NaN                Condo/Co-op         976 Bayside #607   \n",
       "1  MLS Listing        NaN  Single Family Residential        20062 Bayview Ave   \n",
       "2  MLS Listing        NaN  Single Family Residential           619 Irvine Ave   \n",
       "3  MLS Listing        NaN  Single Family Residential  1830 Port Westbourne Pl   \n",
       "4  MLS Listing        NaN   Mobile/Manufactured Home          30 Saratoga #30   \n",
       "\n",
       "            CITY STATE OR PROVINCE  ZIP OR POSTAL CODE    PRICE  BEDS  BATHS  \\\n",
       "0  Newport Beach                CA             92660.0  1250000   2.0   2.25   \n",
       "1  Newport Beach                CA             92660.0  1525000   3.0   3.00   \n",
       "2  Newport Beach                CA             92663.0  1450000   3.0   2.00   \n",
       "3  Newport Beach                CA             92660.0  2275000   4.0   2.50   \n",
       "4  Newport Beach                CA             92660.0   425000   3.0   2.00   \n",
       "\n",
       "   ...  STATUS  NEXT OPEN HOUSE START TIME  NEXT OPEN HOUSE END TIME  \\\n",
       "0  ...  Active                         NaN                       NaN   \n",
       "1  ...  Active                         NaN                       NaN   \n",
       "2  ...  Active                         NaN                       NaN   \n",
       "3  ...  Active                         NaN                       NaN   \n",
       "4  ...  Active                         NaN                       NaN   \n",
       "\n",
       "   URL (SEE http://www.redfin.com/buy-a-home/comparative-market-analysis FOR INFO ON PRICING)  \\\n",
       "0  http://www.redfin.com/CA/Newport-Beach/976-Bay...                                            \n",
       "1  http://www.redfin.com/CA/Newport-Beach/20062-B...                                            \n",
       "2  http://www.redfin.com/CA/Newport-Beach/619-Irv...                                            \n",
       "3  http://www.redfin.com/CA/Newport-Beach/1830-Po...                                            \n",
       "4  http://www.redfin.com/CA/Newport-Beach/30-Sara...                                            \n",
       "\n",
       "   SOURCE        MLS#  FAVORITE INTERESTED   LATITUDE   LONGITUDE  \n",
       "0   CRMLS  OC20057627         N          Y  33.610144 -117.891517  \n",
       "1   CRMLS  OC20091116         N          Y  33.656655 -117.869718  \n",
       "2   CRMLS  OC20067170         N          Y  33.623624 -117.913813  \n",
       "3   CRMLS  NP20104838         N          Y  33.624301 -117.857494  \n",
       "4   CRMLS  NP20104179         N          Y  33.618048 -117.901300  \n",
       "\n",
       "[5 rows x 27 columns]"
      ]
     },
     "execution_count": 5,
     "metadata": {},
     "output_type": "execute_result"
    }
   ],
   "source": [
    "df_property.head()"
   ]
  },
  {
   "cell_type": "code",
   "execution_count": 6,
   "metadata": {},
   "outputs": [
    {
     "data": {
      "text/plain": [
       "Index(['SALE TYPE', 'SOLD DATE', 'PROPERTY TYPE', 'ADDRESS', 'CITY',\n",
       "       'STATE OR PROVINCE', 'ZIP OR POSTAL CODE', 'PRICE', 'BEDS', 'BATHS',\n",
       "       'LOCATION', 'SQUARE FEET', 'LOT SIZE', 'YEAR BUILT', 'DAYS ON MARKET',\n",
       "       '$/SQUARE FEET', 'HOA/MONTH', 'STATUS', 'NEXT OPEN HOUSE START TIME',\n",
       "       'NEXT OPEN HOUSE END TIME',\n",
       "       'URL (SEE http://www.redfin.com/buy-a-home/comparative-market-analysis FOR INFO ON PRICING)',\n",
       "       'SOURCE', 'MLS#', 'FAVORITE', 'INTERESTED', 'LATITUDE', 'LONGITUDE'],\n",
       "      dtype='object')"
      ]
     },
     "execution_count": 6,
     "metadata": {},
     "output_type": "execute_result"
    }
   ],
   "source": [
    "df_property.columns"
   ]
  },
  {
   "cell_type": "code",
   "execution_count": null,
   "metadata": {},
   "outputs": [],
   "source": []
  },
  {
   "cell_type": "code",
   "execution_count": 7,
   "metadata": {},
   "outputs": [],
   "source": [
    "keep_cols = ['PRICE', \n",
    "             'PROPERTY TYPE', \n",
    "             'CITY', \n",
    "             'ZIP OR POSTAL CODE', \n",
    "             'BEDS', \n",
    "             'BATHS',\n",
    "             'SQUARE FEET',\n",
    "             'LATITUDE',\n",
    "             'LONGITUDE']\n",
    "\n",
    "df_property = df_property[keep_cols]"
   ]
  },
  {
   "cell_type": "code",
   "execution_count": null,
   "metadata": {},
   "outputs": [],
   "source": []
  },
  {
   "cell_type": "code",
   "execution_count": 8,
   "metadata": {},
   "outputs": [
    {
     "data": {
      "text/plain": [
       "PRICE                   int64\n",
       "PROPERTY TYPE          object\n",
       "CITY                   object\n",
       "ZIP OR POSTAL CODE    float64\n",
       "BEDS                  float64\n",
       "BATHS                 float64\n",
       "SQUARE FEET           float64\n",
       "LATITUDE              float64\n",
       "LONGITUDE             float64\n",
       "dtype: object"
      ]
     },
     "execution_count": 8,
     "metadata": {},
     "output_type": "execute_result"
    }
   ],
   "source": [
    "df_property.dtypes"
   ]
  },
  {
   "cell_type": "code",
   "execution_count": 9,
   "metadata": {},
   "outputs": [
    {
     "data": {
      "text/plain": [
       "0     92660\n",
       "1     92660\n",
       "2     92663\n",
       "3     92660\n",
       "4     92660\n",
       "      ...  \n",
       "93    92780\n",
       "94    92780\n",
       "95    92780\n",
       "96    92780\n",
       "97    92780\n",
       "Name: ZIP OR POSTAL CODE, Length: 1923, dtype: object"
      ]
     },
     "execution_count": 9,
     "metadata": {},
     "output_type": "execute_result"
    }
   ],
   "source": [
    "df_property['ZIP OR POSTAL CODE'] = df_property['ZIP OR POSTAL CODE'].astype('str')\n",
    "df_property['ZIP OR POSTAL CODE'] = df_property['ZIP OR POSTAL CODE'].str.replace(r'\\.0', '')\n",
    "\n",
    "df_property['ZIP OR POSTAL CODE']"
   ]
  },
  {
   "cell_type": "markdown",
   "metadata": {},
   "source": [
    "<br>\n",
    "\n",
    "You can immediately notice from our quick peek at the dataset that there are _NaN_ values. This is to be expected, and probabaly one of the first things to check for, as missing values may wreak havoc on future analysis and modeling efforts. To inspect deeper, it is informative to see how many _NaN_ values exist in each column individually:"
   ]
  },
  {
   "cell_type": "code",
   "execution_count": 10,
   "metadata": {},
   "outputs": [
    {
     "data": {
      "text/plain": [
       "PRICE                  0\n",
       "PROPERTY TYPE          0\n",
       "CITY                   0\n",
       "ZIP OR POSTAL CODE     0\n",
       "BEDS                  13\n",
       "BATHS                 13\n",
       "SQUARE FEET           29\n",
       "LATITUDE               0\n",
       "LONGITUDE              0\n",
       "dtype: int64"
      ]
     },
     "execution_count": 10,
     "metadata": {},
     "output_type": "execute_result"
    }
   ],
   "source": [
    "df_property.isna().sum()"
   ]
  },
  {
   "cell_type": "markdown",
   "metadata": {},
   "source": [
    "<br>\n",
    "\n",
    "So we do see that some columns have many missing values, while other columns land in single digit values. Fortunately, all of the columns I planned on using fall in the latter column."
   ]
  },
  {
   "cell_type": "code",
   "execution_count": 11,
   "metadata": {},
   "outputs": [
    {
     "data": {
      "text/plain": [
       "Single Family Residential    1154\n",
       "Condo/Co-op                   466\n",
       "Townhouse                     129\n",
       "Mobile/Manufactured Home      100\n",
       "Multi-Family (2-4 Unit)        48\n",
       "Vacant Land                    13\n",
       "Multi-Family (5+ Unit)         13\n",
       "Name: PROPERTY TYPE, dtype: int64"
      ]
     },
     "execution_count": 11,
     "metadata": {},
     "output_type": "execute_result"
    }
   ],
   "source": [
    "# We have some vacant lots listed for sale. We will remove these, as it does not fit what\n",
    "# we are trying to do with predicting property values. Additionally, these listings would\n",
    "# be removed because they have no beds or baths anyways\n",
    "\n",
    "df_property['PROPERTY TYPE'].value_counts()"
   ]
  },
  {
   "cell_type": "code",
   "execution_count": 12,
   "metadata": {},
   "outputs": [],
   "source": [
    "# Remove all listings of vacant plots\n",
    "\n",
    "df_property = df_property.loc[df_property['PROPERTY TYPE'] != 'Vacant Land', ]"
   ]
  },
  {
   "cell_type": "code",
   "execution_count": 13,
   "metadata": {},
   "outputs": [
    {
     "data": {
      "text/plain": [
       "PRICE                  0\n",
       "PROPERTY TYPE          0\n",
       "CITY                   0\n",
       "ZIP OR POSTAL CODE     0\n",
       "BEDS                   0\n",
       "BATHS                  0\n",
       "SQUARE FEET           16\n",
       "LATITUDE               0\n",
       "LONGITUDE              0\n",
       "dtype: int64"
      ]
     },
     "execution_count": 13,
     "metadata": {},
     "output_type": "execute_result"
    }
   ],
   "source": [
    "df_property.isna().sum()"
   ]
  },
  {
   "cell_type": "code",
   "execution_count": 14,
   "metadata": {},
   "outputs": [],
   "source": [
    "df_property.dropna(inplace = True)"
   ]
  },
  {
   "cell_type": "markdown",
   "metadata": {},
   "source": [
    "<br>\n",
    "\n",
    "## Data Enrichment and Feature Engineering\n",
    "\n",
    "So back to the idea of using the supplied coordinates to derive additional geospatial features that may be useful, "
   ]
  },
  {
   "cell_type": "code",
   "execution_count": 15,
   "metadata": {},
   "outputs": [],
   "source": [
    "from geopy import distance"
   ]
  },
  {
   "cell_type": "code",
   "execution_count": 16,
   "metadata": {},
   "outputs": [],
   "source": [
    "# Use the .apply() method to apply a transformation on each row. Particularly, we\n",
    "# are calculating the distance to Pershing Square for each row and returning the \n",
    "# value in kilometers\n",
    "newport_coord = (33.605587, -117.919656)\n",
    "\n",
    "df_property['NPBeach_Dist'] = df_property.apply(lambda row: distance.distance((row['LATITUDE'], row['LONGITUDE']), newport_coord).km, axis = 1)"
   ]
  },
  {
   "cell_type": "code",
   "execution_count": 17,
   "metadata": {},
   "outputs": [
    {
     "data": {
      "text/plain": [
       "0      2.659922\n",
       "1      7.317857\n",
       "2      2.072827\n",
       "3      6.130677\n",
       "4      2.193677\n",
       "        ...    \n",
       "93    17.178001\n",
       "94    17.178001\n",
       "95    17.178001\n",
       "96    17.178001\n",
       "97    17.178001\n",
       "Name: NPBeach_Dist, Length: 1894, dtype: float64"
      ]
     },
     "execution_count": 17,
     "metadata": {},
     "output_type": "execute_result"
    }
   ],
   "source": [
    "df_property['NPBeach_Dist']"
   ]
  },
  {
   "cell_type": "code",
   "execution_count": 18,
   "metadata": {},
   "outputs": [],
   "source": [
    "uci_coords = (33.645807, -117.842733)\n",
    "\n",
    "df_property['UCI_Dist'] = df_property.apply(lambda row: distance.distance((row['LATITUDE'], row['LONGITUDE']), uci_coords).km, axis = 1)"
   ]
  },
  {
   "cell_type": "code",
   "execution_count": 19,
   "metadata": {},
   "outputs": [
    {
     "data": {
      "text/plain": [
       "0      6.011317\n",
       "1      2.777325\n",
       "2      7.038663\n",
       "3      2.750520\n",
       "4      6.245552\n",
       "        ...    \n",
       "93    10.517346\n",
       "94    10.517346\n",
       "95    10.517346\n",
       "96    10.517346\n",
       "97    10.517346\n",
       "Name: UCI_Dist, Length: 1894, dtype: float64"
      ]
     },
     "execution_count": 19,
     "metadata": {},
     "output_type": "execute_result"
    }
   ],
   "source": [
    "df_property['UCI_Dist']"
   ]
  },
  {
   "cell_type": "markdown",
   "metadata": {},
   "source": [
    "<br>\n",
    "\n",
    "Reduce the number of cities. We bin them into distinct geographical regions"
   ]
  },
  {
   "cell_type": "code",
   "execution_count": 20,
   "metadata": {},
   "outputs": [
    {
     "data": {
      "text/plain": [
       "array(['Newport Beach', 'Costa Mesa', 'Corona del Mar', 'Irvine',\n",
       "       'Lake Forest', 'Newport Coast', 'Laguna Hills', 'Corona Del Mar',\n",
       "       'Tustin', 'Santa Ana', 'North Tustin', 'Garden Grove',\n",
       "       'Fountain Valley', 'Orange', 'Trabuco Canyon', 'TUSTIN'],\n",
       "      dtype=object)"
      ]
     },
     "execution_count": 20,
     "metadata": {},
     "output_type": "execute_result"
    }
   ],
   "source": [
    "# Too many cities to use both cities and zip codes (as this would create too many dummy\n",
    "# variables. I will proceed by binning the cities into four distinct regions)\n",
    "\n",
    "df_property['CITY'].unique()"
   ]
  },
  {
   "cell_type": "code",
   "execution_count": 21,
   "metadata": {},
   "outputs": [],
   "source": [
    "def city_bins(row):\n",
    "    if row['CITY'] in ['Irvine']:\n",
    "        return 'Irvine'\n",
    "    elif row['CITY'] in ['Fountain Valley', 'Costa Mesa', 'Santa Ana', 'Garden Grove']:\n",
    "        return 'W'\n",
    "    elif row['CITY'] in ['Orange', 'Tustin', 'TUSTIN', 'North Tustin']:\n",
    "        return 'N'\n",
    "    elif row['CITY'] in ['Lake Forest', 'Laguna Hills', 'Trabuco Canyon']:\n",
    "        return 'E'\n",
    "    else:\n",
    "        return 'Beach'"
   ]
  },
  {
   "cell_type": "code",
   "execution_count": 22,
   "metadata": {},
   "outputs": [],
   "source": [
    "df_property['Region'] = df_property.apply(lambda row: city_bins(row), axis = 1)"
   ]
  },
  {
   "cell_type": "code",
   "execution_count": 23,
   "metadata": {},
   "outputs": [
    {
     "data": {
      "text/plain": [
       "Irvine    687\n",
       "Beach     500\n",
       "W         336\n",
       "E         220\n",
       "N         151\n",
       "Name: Region, dtype: int64"
      ]
     },
     "execution_count": 23,
     "metadata": {},
     "output_type": "execute_result"
    }
   ],
   "source": [
    "df_property['Region'].value_counts()"
   ]
  },
  {
   "cell_type": "markdown",
   "metadata": {},
   "source": [
    "<br>\n",
    "\n",
    "Our model is now ready for some EDA before modeling"
   ]
  },
  {
   "cell_type": "code",
   "execution_count": 24,
   "metadata": {},
   "outputs": [],
   "source": [
    "import matplotlib.pyplot as plt\n",
    "import seaborn as sns"
   ]
  },
  {
   "cell_type": "code",
   "execution_count": 25,
   "metadata": {},
   "outputs": [
    {
     "data": {
      "image/png": "[encoded data removed]",
      "text/plain": [
       "<Figure size 360x360 with 1 Axes>"
      ]
     },
     "metadata": {
      "needs_background": "light"
     },
     "output_type": "display_data"
    }
   ],
   "source": [
    "ax = sns.catplot(y = 'PRICE', x = 'Region', kind = 'box', data = df_property)\n",
    "ax.set(ylabel = 'Price (millions)');"
   ]
  },
  {
   "cell_type": "code",
   "execution_count": 26,
   "metadata": {},
   "outputs": [
    {
     "data": {
      "image/png": "[encoded data removed]",
      "text/plain": [
       "<Figure size 360x360 with 1 Axes>"
      ]
     },
     "metadata": {
      "needs_background": "light"
     },
     "output_type": "display_data"
    }
   ],
   "source": [
    "ax = sns.catplot(y = 'PRICE', x = 'PROPERTY TYPE', kind = 'box', data = df_property)\n",
    "ax.set(ylabel = 'Price (millions)');"
   ]
  },
  {
   "cell_type": "code",
   "execution_count": 27,
   "metadata": {},
   "outputs": [
    {
     "data": {
      "image/png": "[encoded data removed]",
      "text/plain": [
       "<Figure size 432x288 with 1 Axes>"
      ]
     },
     "metadata": {
      "needs_background": "light"
     },
     "output_type": "display_data"
    }
   ],
   "source": [
    "ax = sns.scatterplot(y = 'PRICE', x = 'NPBeach_Dist', data = df_property)\n",
    "ax.set(ylabel = 'Price (millions)');"
   ]
  },
  {
   "cell_type": "code",
   "execution_count": 28,
   "metadata": {},
   "outputs": [
    {
     "data": {
      "image/png": "[encoded data removed]",
      "text/plain": [
       "<Figure size 432x288 with 1 Axes>"
      ]
     },
     "metadata": {
      "needs_background": "light"
     },
     "output_type": "display_data"
    }
   ],
   "source": [
    "ax = sns.scatterplot(y = 'PRICE', x = 'UCI_Dist', data = df_property)\n",
    "ax.set(ylabel = 'Price (millions)');"
   ]
  },
  {
   "cell_type": "code",
   "execution_count": null,
   "metadata": {},
   "outputs": [],
   "source": []
  },
  {
   "cell_type": "code",
   "execution_count": 39,
   "metadata": {},
   "outputs": [
    {
     "data": {
      "text/html": [
       "<div>\n",
       "<style scoped>\n",
       "    .dataframe tbody tr th:only-of-type {\n",
       "        vertical-align: middle;\n",
       "    }\n",
       "\n",
       "    .dataframe tbody tr th {\n",
       "        vertical-align: top;\n",
       "    }\n",
       "\n",
       "    .dataframe thead th {\n",
       "        text-align: right;\n",
       "    }\n",
       "</style>\n",
       "<table border=\"1\" class=\"dataframe\">\n",
       "  <thead>\n",
       "    <tr style=\"text-align: right;\">\n",
       "      <th></th>\n",
       "      <th>PRICE</th>\n",
       "      <th>PROPERTY TYPE</th>\n",
       "      <th>CITY</th>\n",
       "      <th>ZIP OR POSTAL CODE</th>\n",
       "      <th>BEDS</th>\n",
       "      <th>BATHS</th>\n",
       "      <th>SQUARE FEET</th>\n",
       "      <th>LATITUDE</th>\n",
       "      <th>LONGITUDE</th>\n",
       "      <th>NPBeach_Dist</th>\n",
       "      <th>UCI_Dist</th>\n",
       "      <th>Region</th>\n",
       "    </tr>\n",
       "  </thead>\n",
       "  <tbody>\n",
       "    <tr>\n",
       "      <th>0</th>\n",
       "      <td>1250000</td>\n",
       "      <td>Condo/Co-op</td>\n",
       "      <td>Newport Beach</td>\n",
       "      <td>92660</td>\n",
       "      <td>2.0</td>\n",
       "      <td>2.25</td>\n",
       "      <td>1538.0</td>\n",
       "      <td>33.610144</td>\n",
       "      <td>-117.891517</td>\n",
       "      <td>2.659922</td>\n",
       "      <td>6.011317</td>\n",
       "      <td>Beach</td>\n",
       "    </tr>\n",
       "    <tr>\n",
       "      <th>1</th>\n",
       "      <td>1525000</td>\n",
       "      <td>Single Family Residential</td>\n",
       "      <td>Newport Beach</td>\n",
       "      <td>92660</td>\n",
       "      <td>3.0</td>\n",
       "      <td>3.00</td>\n",
       "      <td>2106.0</td>\n",
       "      <td>33.656655</td>\n",
       "      <td>-117.869718</td>\n",
       "      <td>7.317857</td>\n",
       "      <td>2.777325</td>\n",
       "      <td>Beach</td>\n",
       "    </tr>\n",
       "    <tr>\n",
       "      <th>2</th>\n",
       "      <td>1450000</td>\n",
       "      <td>Single Family Residential</td>\n",
       "      <td>Newport Beach</td>\n",
       "      <td>92663</td>\n",
       "      <td>3.0</td>\n",
       "      <td>2.00</td>\n",
       "      <td>1500.0</td>\n",
       "      <td>33.623624</td>\n",
       "      <td>-117.913813</td>\n",
       "      <td>2.072827</td>\n",
       "      <td>7.038663</td>\n",
       "      <td>Beach</td>\n",
       "    </tr>\n",
       "    <tr>\n",
       "      <th>3</th>\n",
       "      <td>2275000</td>\n",
       "      <td>Single Family Residential</td>\n",
       "      <td>Newport Beach</td>\n",
       "      <td>92660</td>\n",
       "      <td>4.0</td>\n",
       "      <td>2.50</td>\n",
       "      <td>2407.0</td>\n",
       "      <td>33.624301</td>\n",
       "      <td>-117.857494</td>\n",
       "      <td>6.130677</td>\n",
       "      <td>2.750520</td>\n",
       "      <td>Beach</td>\n",
       "    </tr>\n",
       "    <tr>\n",
       "      <th>4</th>\n",
       "      <td>425000</td>\n",
       "      <td>Mobile/Manufactured Home</td>\n",
       "      <td>Newport Beach</td>\n",
       "      <td>92660</td>\n",
       "      <td>3.0</td>\n",
       "      <td>2.00</td>\n",
       "      <td>1150.0</td>\n",
       "      <td>33.618048</td>\n",
       "      <td>-117.901300</td>\n",
       "      <td>2.193677</td>\n",
       "      <td>6.245552</td>\n",
       "      <td>Beach</td>\n",
       "    </tr>\n",
       "  </tbody>\n",
       "</table>\n",
       "</div>"
      ],
      "text/plain": [
       "     PRICE              PROPERTY TYPE           CITY ZIP OR POSTAL CODE  BEDS  \\\n",
       "0  1250000                Condo/Co-op  Newport Beach              92660   2.0   \n",
       "1  1525000  Single Family Residential  Newport Beach              92660   3.0   \n",
       "2  1450000  Single Family Residential  Newport Beach              92663   3.0   \n",
       "3  2275000  Single Family Residential  Newport Beach              92660   4.0   \n",
       "4   425000   Mobile/Manufactured Home  Newport Beach              92660   3.0   \n",
       "\n",
       "   BATHS  SQUARE FEET   LATITUDE   LONGITUDE  NPBeach_Dist  UCI_Dist Region  \n",
       "0   2.25       1538.0  33.610144 -117.891517      2.659922  6.011317  Beach  \n",
       "1   3.00       2106.0  33.656655 -117.869718      7.317857  2.777325  Beach  \n",
       "2   2.00       1500.0  33.623624 -117.913813      2.072827  7.038663  Beach  \n",
       "3   2.50       2407.0  33.624301 -117.857494      6.130677  2.750520  Beach  \n",
       "4   2.00       1150.0  33.618048 -117.901300      2.193677  6.245552  Beach  "
      ]
     },
     "execution_count": 39,
     "metadata": {},
     "output_type": "execute_result"
    }
   ],
   "source": [
    "df_property.head()"
   ]
  },
  {
   "cell_type": "code",
   "execution_count": 65,
   "metadata": {},
   "outputs": [],
   "source": [
    "import gmaps\n",
    "import gmaps.datasets\n",
    "\n",
    "gmaps.configure(api_key = 'api_key_goes_here')\n",
    "\n",
    "fig = gmaps.figure(layout = {'width': '800px',\n",
    "                             'height': '600px'})\n",
    "\n",
    "heatmap_data = list(zip(df_property['LATITUDE'], df_property['LONGITUDE'], df_property['PRICE']))\n",
    "\n",
    "heatmap_layer = gmaps.heatmap_layer(df_property[['LATITUDE', 'LONGITUDE']],\n",
    "                                    weights = df_property['PRICE'].to_numpy(),\n",
    "                                    max_intensity = 10_000_000,\n",
    "                                    point_radius = 7)\n",
    "\n",
    "fig.add_layer(heatmap_layer)\n",
    "fig"
   ]
  },
  {
   "cell_type": "code",
   "execution_count": null,
   "metadata": {},
   "outputs": [],
   "source": []
  },
  {
   "cell_type": "code",
   "execution_count": 37,
   "metadata": {},
   "outputs": [],
   "source": [
    "# df_property.drop(columns = ['CITY', 'LATITUDE', 'LONGITUDE'], inplace = True)"
   ]
  }
 ],
 "metadata": {
  "kernelspec": {
   "display_name": "Python 3.6.10 64-bit ('venv': virtualenv)",
   "language": "python",
   "name": "python361064bitvenvvirtualenvce87573e37df496f9115a79d08b6af68"
  },
  "language_info": {
   "codemirror_mode": {
    "name": "ipython",
    "version": 3
   },
   "file_extension": ".py",
   "mimetype": "text/x-python",
   "name": "python",
   "nbconvert_exporter": "python",
   "pygments_lexer": "ipython3",
   "version": "3.6.10"
  }
 },
 "nbformat": 4,
 "nbformat_minor": 4
}